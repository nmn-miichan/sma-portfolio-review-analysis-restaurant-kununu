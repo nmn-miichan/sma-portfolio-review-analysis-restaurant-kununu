{
 "cells": [
  {
   "cell_type": "markdown",
   "id": "d72a11f5",
   "metadata": {},
   "source": [
    "# 1. Overview"
   ]
  },
  {
   "cell_type": "markdown",
   "id": "5cb636e8",
   "metadata": {},
   "source": [
    "### 1.1. Introduction to Kununu"
   ]
  },
  {
   "cell_type": "markdown",
   "id": "0c04fb52",
   "metadata": {},
   "source": [
    "In this notebook, I'll introduce you to Kununu, an employer review platform similar to Glassdoor, but focused on German-speaking countries (Germany, Switzerland and Austria).\n",
    "\n",
    "If you've ever applied for a job, you might relate to the curiosity of knowing what it's truly like to work at that company. Many job applicants prefer to independently investigate potential employers, especially if they don’t know anyone within the company.  This is where Kununu comes into play.\n",
    "\n",
    "Kununu provides individuals with valuable employee insights and ratings for companies they are interested in, helping them make informed career decisions. Meanwhile, companies benefit from receiving anonymous yet reliable feedback, which highlights their strengths and identifies areas needing improvement.\n",
    "\n",
    "<div class=\"alert alert-block alert-success\">\n",
    "\n",
    "Personally, I find Kununu to be extremely insightful. From what I've seen, companies tend to emphasize their attractive values and benefits, but these employer reviews reveal the most truthful opinions. That's why I make sure to read them thoroughly before any applications and interviews.\n",
    "</div>\n",
    "\n",
    "<div class=\"alert alert-block alert-info\">\n",
    "\n",
    "If data quality is your concern, know that they are very committed to ensuring fairness and maintaining high standards in reviews, with measures in place to prevent fake and purchased feedback while protecting user personal data.\n",
    "\n",
    "For further information  see the links below:\n",
    "\n",
    "* Policy: https://inside.kununu.com/kununu-richtlinien/\n",
    "\n",
    "* Data processing: https://inside.kununu.com/wie-kununu-daten-verarbeitet/\n",
    "</div>"
   ]
  },
  {
   "cell_type": "markdown",
   "id": "c44f43be",
   "metadata": {},
   "source": [
    "The platform is unfortunately only in German, but with current technology, you can easily translate the page directly into English using your browser. Sometimes, you can also find reviews in English."
   ]
  },
  {
   "cell_type": "markdown",
   "id": "d251e450",
   "metadata": {},
   "source": [
    "### 1.2. Page and data structure"
   ]
  },
  {
   "cell_type": "markdown",
   "id": "afc82c96",
   "metadata": {},
   "source": [
    "Before diving into details on how to access their data, let's start with a brief summary of the site and data structure. \n",
    "\n",
    "The entire website is designed so that each company has an overview page containing information about the company and summarized statistics. Its URL has the structure:\n",
    "\n",
    "`https://www.kununu.com/<country abbreviation: de, at, or ch>/<company name>`\n",
    "\n",
    "For example:\n",
    "\n",
    "`https://www.kununu.com/de/statista`\n"
   ]
  },
  {
   "cell_type": "markdown",
   "id": "548731c3",
   "metadata": {},
   "source": [
    "Below this, there are several subpages:\n",
    "\n",
    "* Reviews (**~/kommentare** - from employees or **~/bewerbung** - from applicants): This section allows users to filter reviews based on position, department, location, and other criteria, as well as sort them by newest, oldest, most relevant, etc. Each review includes various categories where the reviewer can rate from 1 to 5 stars and add textual feedback. The reviewers are not only employees but also previous applicants, allowing for their filtering as well.\n",
    "\n",
    "* Salaries(**~/gehalt**): Provides insights into salary ranges for different positions within the company.\n",
    "\n",
    "* Job posts (**~/jobs**): Although vacant jobs are listed here for the company, in my experience, it may not be the most up-to-date or comprehensive source for job listings. Other platforms such as Stepstone, Indeed, and LinkedIn typically provide more current and thorough job postings.\n",
    "\n",
    "* Company culture (**~/kultur**): Focuses on insights into the company's culture, based on employee experiences. For more details on how they calculate these cultural metrics, visit [Kununu Culture Compass Methodology](https://news.kununu.com/presseinformation/kununu-kulturkompass-methodische-grundlagen/).\n",
    "\n",
    "Some company has the News section too (**~/news**): This page is dedicated to updates and announcements related to the company."
   ]
  },
  {
   "cell_type": "markdown",
   "id": "442c3742",
   "metadata": {},
   "source": [
    "If you don't have a specific company to investigate and just want to explore options, you can navigate to their general pages, which are not attached to any particular company (see below)."
   ]
  },
  {
   "cell_type": "markdown",
   "id": "698bbb88",
   "metadata": {},
   "source": [
    "<img src=\"images/Kununu_general.png\" width=\"900\"/>"
   ]
  },
  {
   "cell_type": "markdown",
   "id": "68af269e",
   "metadata": {},
   "source": [
    "<div class=\"alert alert-block alert-success\">\n",
    "\n",
    "I usually scroll through the review section to read about companies of interest, but I often find it challenging to summarize all the information I need and search for very specific details, e.g. whether the company has a works committee. Furthermore, reviews are already categorized but at quite a high level, so there is plenty of room for more advanced analysis, such as text mining (e.g., topic detection, more ideas in part 3). \n",
    "\n",
    "Let's now take a look at possible ways to retrieve the data.\n",
    "</div>"
   ]
  },
  {
   "cell_type": "markdown",
   "id": "f12b5ba4",
   "metadata": {},
   "source": [
    "### 1.3. Options to access data"
   ]
  },
  {
   "cell_type": "markdown",
   "id": "3aeaf2fe",
   "metadata": {},
   "source": [
    "| Method                | Description and links                                                                                                | Potential peculiarities/problems                                          |\n",
    "|-----------------------|---------------------------------------------------------------------------------------                               |---------------------------------------------------------------------------|\n",
    "| **APIs**              | Kununu does not appear to offer a public API directly for developers on its website.                                 | -                                                                         | \n",
    "| **Python Packages**   | Based on my research, there are currently no dedicated Python packages specifically for accessing Kununu data either.| -                                                                         |\n",
    "| **Web Scraping**      | Paid options: [Apify's Kununu.com Companies Scraper API](https://apify.com/lexis-solutions/kununu-scraper/api)<br>Free options: write your own script or use code from open source projects, e.g.: <br>- https://github.com/TheWoops/Web-Scraping, <br>- https://github.com/CAlamosV/Webscraping-Kununu          | - Legal and ethical considerations - ensure compliance with Kununu's terms of service and data usage policies <br>- Potential changes in website structure can break scraping scripts."
   ]
  },
  {
   "cell_type": "markdown",
   "id": "73a16f10",
   "metadata": {},
   "source": [
    "This approach is more oriented towards employees and interested individuals because if a company has an Employer Branding Profile, they receive in-depth analysis insights for their account. Read more [here](https://arbeitgeberportal.kununu.com/produkte/kostenloses-arbeitgeberprofil/).\n"
   ]
  },
  {
   "cell_type": "markdown",
   "id": "30572c04",
   "metadata": {
    "vscode": {
     "languageId": "plaintext"
    }
   },
   "source": [
    "Based on this initial research, I'd recommend web scraping while keeping some common rules for this option in mind, such as:\n",
    "* Rate limit: Be mindful of making too many requests in a short period to avoid IP blocks.\n",
    "* Privacy and legal considerations: As all reviews are anonymous, there is no significant risk concerning storing and processing personal information. However, always consult the terms of service to ensure compliance.\n",
    "\n",
    "<div class=\"alert alert-block alert-warning\">\n",
    "<b>Further considerations</b>\n",
    "\n",
    "* It's also important to remember that these reviews only capture part of the whole picture, as not every employee/applicant shares their experiences. Often, individuals who had negative experiences are more likely to post reviews. Utilize this data to support better, data-driven decision-making for employees and companies, but avoid using it as the sole metric for evaluating company performance or culture.\n",
    "\n",
    "* Furthermore, be mindful that reviews from the distant past may not reflect the current situation. It is recommended to concentrate on reviews from the previous 1 or 2 years.\n",
    "</div>"
   ]
  },
  {
   "cell_type": "markdown",
   "id": "e9237918",
   "metadata": {},
   "source": [
    "# 2. Mini Tutorial"
   ]
  },
  {
   "cell_type": "markdown",
   "id": "899ae5f1",
   "metadata": {},
   "source": [
    "### Code for scraping all written reviews (either from employees or applicants) for a certain company in Kununu \n",
    "*(modified from the original file **scrape_reviews.ipynb** of [Webscraping-Kununu](https://github.com/CAlamosV/Webscraping-Kununu) (GitHub) for the purpose of my submission)*\n",
    "\n",
    "##### > Workflow\n",
    "The main steps involve installing Python packages, defining CSS classes based on page structure, and writing functions to scrape the data:\n",
    "1. **Parsing Individual Review Blocks (`parse_review_block`):**\n",
    "   Extracts structured data from a single review, including subcategories and text of reviews.\n",
    "\n",
    "2. **Fetching Reviews (`get_all_reviews_for_url`):**\n",
    "   Scrapes all reviews (either from employees or applicants) for a company across multiple pages, iterating through review pages until the 'Mehr Bewertungen lesen' (Read more reviews) button is no longer visible.\n",
    "\n",
    "##### > Output\n",
    "- **Structured Review Data:** A JSON file containing the scraped reviews.\n",
    "\n",
    "##### > Notes\n",
    "- The scraper relies on specific HTML structures defined in the `CSS_CLASSES` dictionary. Changes to Kununu’s website may require updates to these selectors.\n",
    "- Kununu's website uses JavaScript to load content dynamically, meaning simple HTTP requests won't capture all the data. The original project used Scraping Bee to address this issue. I replaced it with Selenium, a free alternative that we learned in the lecture."
   ]
  },
  {
   "cell_type": "code",
   "execution_count": 1,
   "id": "177c63e9",
   "metadata": {},
   "outputs": [],
   "source": [
    "# !pip install beautifulsoup4 selenium\n",
    "import json\n",
    "from selenium import webdriver\n",
    "from bs4 import BeautifulSoup\n",
    "import time\n",
    "import math\n",
    "from selenium.webdriver.common.by import By\n",
    "from selenium.webdriver.common.action_chains import ActionChains\n",
    "from selenium.webdriver.support import expected_conditions as EC\n",
    "from selenium.webdriver.chrome.options import Options\n",
    "from selenium.common.exceptions import TimeoutException, NoSuchElementException"
   ]
  },
  {
   "cell_type": "code",
   "execution_count": 2,
   "id": "6ce96dc6",
   "metadata": {},
   "outputs": [],
   "source": [
    "# Define a dictionary to hold the needed CSS class names\n",
    "# This may need to be updated if the website changes\n",
    "CSS_CLASSES = {\n",
    "    \"overall_score\": \".index__score__BktQY\",\n",
    "    \"title\": \"h3.index__title__xakS9.h3-semibold\",\n",
    "    \"date\": \"time[datetime]\",\n",
    "    \"recommendation_block\": \".index__recommendationBlock__2zhEJ\",\n",
    "    \"employment_info\": \".index__employmentInfoBlock__wuOtj\",\n",
    "    \"factor\": \".index__factor__Mo6xW\",\n",
    "    \"factor_title\": \".index__title__Rq0Po\",\n",
    "    \"factor_text\": \".index__plainText__JgbHE\",\n",
    "    \"review_block\": \".index__reviewBlock__I8pdb\",\n",
    "    \"total_reviews\": \"index__totalReviews__aUzS6 p-small-semibold\"\n",
    "}"
   ]
  },
  {
   "cell_type": "code",
   "execution_count": 3,
   "id": "1241350f",
   "metadata": {},
   "outputs": [],
   "source": [
    "def parse_review_block(block, kn_url):\n",
    "    review = {}\n",
    "    review['kn_url'] = kn_url\n",
    "    # Overall score\n",
    "    score_el = block.select_one(CSS_CLASSES[\"overall_score\"])\n",
    "    review['overall_score'] = float(score_el.text.replace(',', '.')) if score_el else None\n",
    "    \n",
    "    # Title\n",
    "    title_el = block.select_one(CSS_CLASSES[\"title\"])\n",
    "    review['title'] = title_el.text.strip() if title_el else None\n",
    "    \n",
    "    # Date\n",
    "    date_el = block.select_one(CSS_CLASSES[\"date\"])\n",
    "    if date_el:\n",
    "        date_str = date_el.get('datetime', '')\n",
    "        date_parts = date_str.split('T')[0].split('-')\n",
    "        review['year'] = int(date_parts[0])\n",
    "        review['month'] = int(date_parts[1])\n",
    "    else:\n",
    "        review['year'] = None\n",
    "        review['month'] = None\n",
    "    \n",
    "    # Recommendation\n",
    "    rec_el = block.select_one(CSS_CLASSES[\"recommendation_block\"])\n",
    "    if rec_el:\n",
    "        recommendation_text = rec_el.text.strip().lower()\n",
    "    else:\n",
    "        review['recommended'] = None\n",
    "\n",
    "    # Employee Type and Position\n",
    "    emp_info_el = block.select_one(CSS_CLASSES[\"employment_info\"])\n",
    "    if emp_info_el:\n",
    "        emp_info_text = emp_info_el.text.strip()\n",
    "        emp_type_el = emp_info_el.select_one('b')\n",
    "        review['employee_type'] = emp_type_el.text.strip() if emp_type_el else None\n",
    "        try:\n",
    "            position_text = emp_info_el.text.replace(review['employee_type'], '', 1).strip()\n",
    "            review['position'] = position_text if position_text else None\n",
    "        except:\n",
    "            review['position'] = None\n",
    "    else:\n",
    "        review['employee_type'] = None\n",
    "        review['position'] = None\n",
    "\n",
    "    # Subcategories\n",
    "    review['subcategories'] = []\n",
    "    factors = block.select(CSS_CLASSES[\"factor\"])\n",
    "    for f in factors:\n",
    "        cat_title_el = f.select_one(CSS_CLASSES[\"factor_title\"])\n",
    "        if not cat_title_el:\n",
    "            continue\n",
    "        cat_title = cat_title_el.text.strip()\n",
    "        text_el = f.select_one(CSS_CLASSES[\"factor_text\"])\n",
    "        cat_text = text_el.text.strip() if text_el else None\n",
    "        review['subcategories'].append({cat_title: cat_text})\n",
    "\n",
    "    return review\n"
   ]
  },
  {
   "cell_type": "code",
   "execution_count": 4,
   "id": "b7e13a71",
   "metadata": {},
   "outputs": [],
   "source": [
    "def get_all_reviews_for_url(kn_url, save_path=\"data/scraped_reviews.json\"):\n",
    "\n",
    "    chrome_options = Options()\n",
    "    chrome_options.add_argument(\"--headless\")\n",
    "    chrome_options.add_argument(\"--disable-gpu\")\n",
    "    chrome_options.add_argument(\"--window-size=1920,1080\")\n",
    "    \n",
    "    driver = webdriver.Chrome(options=chrome_options)\n",
    "    \n",
    "    try:\n",
    "        driver.get(kn_url)\n",
    "        \n",
    "        reviews = []\n",
    "        more_reviews_available = True\n",
    "        \n",
    "        while more_reviews_available:\n",
    "            \n",
    "            # Parse the current page content\n",
    "            soup = BeautifulSoup(driver.page_source, 'html.parser')\n",
    "            review_blocks = soup.select(CSS_CLASSES[\"review_block\"])\n",
    "            \n",
    "            # Process the currently visible reviews\n",
    "            for block in review_blocks:\n",
    "                parsed = parse_review_block(block, kn_url)\n",
    "                if parsed.get('title'):\n",
    "                    reviews.append(parsed)\n",
    "            \n",
    "            print(f\"Collected {len(reviews)} reviews so far...\")\n",
    "            \n",
    "            # Check if the \"Mehr Bewertungen lesen\" button exists\n",
    "            try:\n",
    "                load_more_link = soup.select_one(\"a.index__button__2PFpW\")\n",
    "                if load_more_link and load_more_link.get(\"href\"):\n",
    "                    next_page_url = load_more_link[\"href\"]\n",
    "                    full_next_page_url = f\"https://www.kununu.com{next_page_url}\"\n",
    "                    print(f\"Navigating to next page: {full_next_page_url}\")\n",
    "                    driver.get(full_next_page_url)\n",
    "            \n",
    "                    time.sleep(3)\n",
    "                else:\n",
    "                    print(\"No more 'Mehr Bewertungen lesen' button found. All reviews loaded.\")\n",
    "                    more_reviews_available = False\n",
    "            except Exception as e:\n",
    "                print(f\"Error finding 'Mehr Bewertungen lesen' button: {e}\")\n",
    "                more_reviews_available = False\n",
    "        \n",
    "        print(f\"Total reviews collected: {len(reviews)}\")\n",
    "        \n",
    "\n",
    "        results = {kn_url: reviews}\n",
    "        with open(save_path, \"w\") as f:\n",
    "            json.dump(results, f)\n",
    "        \n",
    "        return results\n",
    "    \n",
    "    finally:\n",
    "        driver.quit()\n",
    "\n"
   ]
  },
  {
   "cell_type": "code",
   "execution_count": null,
   "id": "14fb2e2f",
   "metadata": {},
   "outputs": [
    {
     "name": "stdout",
     "output_type": "stream",
     "text": [
      "Collected 10 reviews so far...\n",
      "Navigating to next page: https://www.kununu.com/de/statista/kommentare/2\n",
      "Collected 20 reviews so far...\n",
      "Navigating to next page: https://www.kununu.com/de/statista/kommentare/3\n",
      "Collected 30 reviews so far...\n",
      "Navigating to next page: https://www.kununu.com/de/statista/kommentare/4\n",
      "Collected 40 reviews so far...\n",
      "Navigating to next page: https://www.kununu.com/de/statista/kommentare/5\n",
      "Collected 50 reviews so far...\n",
      "Navigating to next page: https://www.kununu.com/de/statista/kommentare/6\n",
      "Collected 60 reviews so far...\n",
      "Navigating to next page: https://www.kununu.com/de/statista/kommentare/7\n",
      "Collected 70 reviews so far...\n",
      "Navigating to next page: https://www.kununu.com/de/statista/kommentare/8\n",
      "Collected 80 reviews so far...\n",
      "Navigating to next page: https://www.kununu.com/de/statista/kommentare/9\n",
      "Collected 90 reviews so far...\n",
      "Navigating to next page: https://www.kununu.com/de/statista/kommentare/10\n",
      "Collected 100 reviews so far...\n",
      "Navigating to next page: https://www.kununu.com/de/statista/kommentare/11\n",
      "Collected 110 reviews so far...\n",
      "Navigating to next page: https://www.kununu.com/de/statista/kommentare/12\n",
      "Collected 120 reviews so far...\n",
      "Navigating to next page: https://www.kununu.com/de/statista/kommentare/13\n",
      "Collected 130 reviews so far...\n",
      "Navigating to next page: https://www.kununu.com/de/statista/kommentare/14\n",
      "Collected 140 reviews so far...\n",
      "Navigating to next page: https://www.kununu.com/de/statista/kommentare/15\n",
      "Collected 150 reviews so far...\n",
      "Navigating to next page: https://www.kununu.com/de/statista/kommentare/16\n",
      "Collected 160 reviews so far...\n",
      "Navigating to next page: https://www.kununu.com/de/statista/kommentare/17\n",
      "Collected 170 reviews so far...\n",
      "Navigating to next page: https://www.kununu.com/de/statista/kommentare/18\n",
      "Collected 180 reviews so far...\n",
      "Navigating to next page: https://www.kununu.com/de/statista/kommentare/19\n",
      "Collected 190 reviews so far...\n",
      "Navigating to next page: https://www.kununu.com/de/statista/kommentare/20\n",
      "Collected 200 reviews so far...\n",
      "Navigating to next page: https://www.kununu.com/de/statista/kommentare/21\n",
      "Collected 210 reviews so far...\n",
      "Navigating to next page: https://www.kununu.com/de/statista/kommentare/22\n",
      "Collected 220 reviews so far...\n",
      "Navigating to next page: https://www.kununu.com/de/statista/kommentare/23\n",
      "Collected 230 reviews so far...\n",
      "Navigating to next page: https://www.kununu.com/de/statista/kommentare/24\n",
      "Collected 240 reviews so far...\n",
      "Navigating to next page: https://www.kununu.com/de/statista/kommentare/25\n",
      "Collected 250 reviews so far...\n",
      "Navigating to next page: https://www.kununu.com/de/statista/kommentare/26\n",
      "Collected 260 reviews so far...\n",
      "Navigating to next page: https://www.kununu.com/de/statista/kommentare/27\n",
      "Collected 270 reviews so far...\n",
      "Navigating to next page: https://www.kununu.com/de/statista/kommentare/28\n",
      "Collected 280 reviews so far...\n",
      "Navigating to next page: https://www.kununu.com/de/statista/kommentare/29\n",
      "Collected 290 reviews so far...\n",
      "Navigating to next page: https://www.kununu.com/de/statista/kommentare/30\n",
      "Collected 296 reviews so far...\n",
      "No more 'Mehr Bewertungen lesen' button found. All reviews loaded.\n",
      "Total reviews collected: 296\n"
     ]
    }
   ],
   "source": [
    "# Example: Let's scrape all reviews from employees for Statista\n",
    "url = \"https://www.kununu.com/de/statista/kommentare\"\n",
    "reviews = get_all_reviews_for_url(url)"
   ]
  },
  {
   "cell_type": "code",
   "execution_count": null,
   "id": "344174f1",
   "metadata": {},
   "outputs": [
    {
     "data": {
      "text/plain": [
       "{'kn_url': 'https://www.kununu.com/de/statista/kommentare',\n",
       " 'overall_score': 2.8,\n",
       " 'title': 'War mal super, jetzt eher ein sinkendes Schiff',\n",
       " 'year': 2025,\n",
       " 'month': 4,\n",
       " 'employee_type': 'Ex-Angestellte/r oder Arbeiter/in',\n",
       " 'position': 'Hat bis 2025 im Bereich IT bei Statista gearbeitet.',\n",
       " 'subcategories': [{'Gut am Arbeitgeber finde ich': '(Bisher noch) sehr viel Flexibilität, was sich aber ab Herbst ändern wirdDas kollegiale MiteinanderDie kulturelle Vielfalt'},\n",
       "  {'Schlecht am Arbeitgeber finde ich': 'Falsche & gelogene Kommunikation (\"es wird keine Layoffs geben\"), nur damit dann am laufenden Band Mitarbeitende binnen zwei Wochen \"verschwinden\", ergo nicht selbst gekündigt haben.Die Bezahlung ist unterirdisch. Uni-Absolventen aus anderen Ländern werden schamlos ausgenutzt und zu Witzgehältern eingestellt, weil man weiß, dass sie gern in Deutschland Fuß fassen wollen. Gleichzeitig bekommen neue Kolleg:innen aus der Beratungswelt lächerlich hohe Gehälter, weil sie sich gut verkaufen konnten.'},\n",
       "  {'Verbesserungsvorschläge': 'Vielleicht mal kurz innehalten und darüber nachdenken, warum Statista bis Sommer 24 ein toller Arbeitgeber mit einem super Betriebsklima war und jetzt eine Kündingswelle (sowohl durch die Firma als auch die Mitarbeitenden) nach der anderen kommt.Einen CPO einstellen, der sich auch tatsächlich für das Betriebsklima interessiert und sich nicht nur der politischen Agenda des neuen CEOs unterwirft.Keine Meinungsunterbindung, indem man anonyme Fragen & Feedback verbietet und in der die CPO Kolleg:innen, die ein GIF in einem Townhall Chat geschickt haben, sofort einen persönlichen Termin einstellt.'},\n",
       "  {'Arbeitsatmosphäre': 'Hat seit dem neuen Management rapide abgenommen'},\n",
       "  {'Image': 'Nach außen deutlich besser als innen'},\n",
       "  {'Work-Life-Balance': 'Gut, wenn man auf sich achtet.'},\n",
       "  {'Karriere/Weiterbildung': 'Wenn Budget da ist, kann man mal einen Sprung machen.'},\n",
       "  {'Gehalt/Sozialleistungen': 'Ausnutzen von Absolventen aus anderen Ländern, die gern nach Deutschland ziehen möchten, um sie dann heftig unter zu bezahlen.'},\n",
       "  {'Kollegenzusammenhalt': 'Das absolut Beste an Statista'},\n",
       "  {'Umgang mit älteren Kollegen': 'Da es keine gibt, schwierig zu bewerten.'},\n",
       "  {'Vorgesetztenverhalten': 'Auf Teamlead-Ebene einwandfrei, im Upper Management katastrophal'},\n",
       "  {'Kommunikation': 'Fehlinfos, Imagepflege, ständig wechselnde Prios'},\n",
       "  {'Gleichberechtigung': 'Die letzten weibliche Führungskraft in der IT wurde rausgeworfen & durch einen Mann ersetzt, Upper Management auch zu 70% männlich.'},\n",
       "  {'Interessante Aufgaben': 'Wenn man sich mal auf einen Fokus einigen könnte und nicht alles zu Prio 1 erklärt.'},\n",
       "  {'Umwelt-/Sozialbewusstsein': None},\n",
       "  {'Arbeitsbedingungen': None}]}"
      ]
     },
     "execution_count": 6,
     "metadata": {},
     "output_type": "execute_result"
    }
   ],
   "source": [
    "# Return the first review\n",
    "reviews['https://www.kununu.com/de/statista/kommentare'][0]"
   ]
  },
  {
   "cell_type": "markdown",
   "id": "0f9f4e94",
   "metadata": {},
   "source": [
    "This demo code serves the purpose of scraping all reviews and ratings from employees of a certain company. However, it can be easily scaled to access reviews from applicants (by using the URL https://www.kununu.com/de/statista/bewerbung instead), as well as other sections such as company profile data, job postings, salaries, and to scrape multiple companies simultaneously. Up to now, I haven't experienced any limitations with this approach.\n",
    "\n",
    "The full code can be found here: https://github.com/CAlamosV/Webscraping-Kununu. They claimed to have used the code to scrape all 255,002 employer profiles as of December 15th, 2024."
   ]
  },
  {
   "cell_type": "markdown",
   "id": "3191d1f1",
   "metadata": {},
   "source": [
    "# 3. Use case"
   ]
  },
  {
   "cell_type": "markdown",
   "id": "b908fdf4",
   "metadata": {},
   "source": [
    "As you can see, Kununu consists primarily of user-generated employer reviews, hence a lot of text data. The data quality in terms of completeness and consistency of the review is not secured, it depends a lot on the individual biases and subjectivity. This requires us to handle the data differently than traditional tabular data, by using special NLP techniques. This aspect makes it particularly interesting in the context of our course.\n",
    "\n",
    "Listed below are the initial ideas for relevant use cases:"
   ]
  },
  {
   "cell_type": "markdown",
   "id": "24242de3",
   "metadata": {},
   "source": [
    "| Type           | Description                                                                            |Example of potential use cases                                           |\n",
    "|----------------|----------------------------------------------------|-------------------------------------------------------|\n",
    "| Labeled data   | Ratings: Reviews feature 1 to 5-star ratings on various job aspects like work-life balance, salary, and career development| Ratings can serve as sentiment labels (1-2 stars = negative, 3 stars = neutral, 4-5 stars = positive) for sentiment analysis of review text. Or predict overall satisfaction or the likelihood of recommendation.  |\n",
    "| Text data      | Free text reviews | Topic Modeling: Discover recurring themes and issues.\n"
   ]
  },
  {
   "cell_type": "markdown",
   "id": "f688c618",
   "metadata": {},
   "source": [
    "Regarding the topic of RAG systems, I coincidentally came across an AI summary function on the Kununu page of Check24. Althorugh it's unclear whether this feature is implemented by the company or provided by Kununu, as I can't see it on other companies' pages, this presents an interesting example of RAG functionality."
   ]
  },
  {
   "cell_type": "markdown",
   "id": "71c5742b",
   "metadata": {},
   "source": [
    "<img src=\"images/Kununu_Check24.png\" width=\"1000\"/>"
   ]
  },
  {
   "cell_type": "markdown",
   "id": "70c41823",
   "metadata": {},
   "source": [
    "Imagine building a RAG system where you could ask questions like, \"What do employees say about promotion opportunities at Company Y? or 'What interview questions should I expect for position A at company B?\" The system could treat each company as a source, retrieving relevant snippets and generating comprehensive answers based on your query. It could also enable comparisons between several companies and offer deeper analysis of specific topics.\n",
    "\n",
    "<div class=\"alert alert-block alert-success\">\n",
    "\n",
    "In summary, Kununu and its data have enormous potential for traditional machine learning as well as more advanced AI applications like RAG. Web scraping has proven to work seamlessly, and I'm personally intrigued to explore this direction further.\n",
    "</div>"
   ]
  }
 ],
 "metadata": {
  "kernelspec": {
   "display_name": ".venv",
   "language": "python",
   "name": "python3"
  },
  "language_info": {
   "codemirror_mode": {
    "name": "ipython",
    "version": 3
   },
   "file_extension": ".py",
   "mimetype": "text/x-python",
   "name": "python",
   "nbconvert_exporter": "python",
   "pygments_lexer": "ipython3",
   "version": "3.12.6"
  }
 },
 "nbformat": 4,
 "nbformat_minor": 5
}
